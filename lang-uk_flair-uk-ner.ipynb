{
 "cells": [
  {
   "cell_type": "code",
   "execution_count": 1,
   "id": "984e953f-d395-421f-8da2-33f904b1d507",
   "metadata": {},
   "outputs": [
    {
     "name": "stderr",
     "output_type": "stream",
     "text": [
      "/home/ubuntu/Projects/ua-testimonies/.venv/lib/python3.12/site-packages/tqdm/auto.py:21: TqdmWarning: IProgress not found. Please update jupyter and ipywidgets. See https://ipywidgets.readthedocs.io/en/stable/user_install.html\n",
      "  from .autonotebook import tqdm as notebook_tqdm\n"
     ]
    }
   ],
   "source": [
    "from flair.data import Sentence\n",
    "from flair.models import SequenceTagger"
   ]
  },
  {
   "cell_type": "code",
   "execution_count": 2,
   "id": "879fba7b-616f-440c-a952-9810f562b917",
   "metadata": {},
   "outputs": [],
   "source": [
    "# source:\n",
    "# https://blog.ehri-project.eu/uk/2023/05/05/the-holocaust-in-volhynia-uk/\n",
    "# some phrases were changed to test edge cases\n",
    "text = [\n",
    "    \"«У селі жили і поляки, і українці. Мамина рідна сестра вийшла заміж за поляка. Там вони живуть досі ті мої двоюрідні сестри. Батькові сестри також повиходили заміж за поляків. Поки війни не було, то [міжетнічної] різниці не було» – зазначає Ганна Кухарчук із с. Княгинінок.\",\n",
    "    \"Про свій досвід взаємодії з євреями Антоніна Гук із с. Зелений Дуб пригадує наступне: «Жиди приходили до нас додому. Мама хотіли їм квасолі дати, а він каже «ми квасолі не їмо». Це так той єврей сказав. А чому він приходив, то я не знаю, мабуть через якусь потребу. Такі ж люди були, як і ми…»\",\n",
    "    \"Потім він по-польськи сказав “Nemá nič”» – розповідає Галина Береза з с. Коршів Волинської області\", # non-ukrainian phrases\n",
    "    \"Інший календар, яким часто послуговуються оповідачі – релігійний. Оскільки більшість етнічних українців Волині належать до православної конфесії, найважливішими святами для них є Різдво (7 січня), Водохреща (19 січня), Стрітення (15 лютого), Благовіщеня (7 квітня), Великдень (дата щороку змінюється), Трійця (через 50 днів після Великодня), Святих Петра і Павла (12 липня), Спаса (19 серпня) тощо. Всі ці свята відзначаються згідно юліанського (а не григоріанського) календаря.\", # not a real entities\n",
    "    \"Людей не понищили, отак прийшли й зайняли територію. Батькам не було страшно, наш тато ні до кого не ліз, дбали тільки про свою сім’ю й ніхто не зачіпав. У 1939 р. було створено десь 10 чи 11 колгоспів. Бідні люди самі пішли в колгосп. Володимир теж пішов у колгосп. Йому платили по 9 кг. зерна за трудодень. Заробив він десь 40 метрів зерна (приблизно 4 тони)\", # just first name\n",
    "    \"Тоді саме були жнива й Галина їх переховувала в копнах. Вона дуже багато євреїв переховувала…\", # just first name\n",
    "    \"Ядвіга хотіли їм квасолі дати, а він каже «ми квасолі не їмо». Це так той єврей сказав.\", # just first name\n",
    "    \"Цю думку ізраїльського історика цитує Джон-Пол Химка.\", # non-ukrainian name\n",
    "]"
   ]
  },
  {
   "cell_type": "code",
   "execution_count": 4,
   "id": "0a8a0ae8-d5c6-4715-904c-beca3e2f0f73",
   "metadata": {},
   "outputs": [
    {
     "name": "stdout",
     "output_type": "stream",
     "text": [
      "2024-08-22 00:20:39,359 SequenceTagger predicts: Dictionary with 19 tags: O, S-PERS, B-PERS, E-PERS, I-PERS, S-LOC, B-LOC, E-LOC, I-LOC, S-ORG, B-ORG, E-ORG, I-ORG, S-MISC, B-MISC, E-MISC, I-MISC, <START>, <STOP>\n"
     ]
    }
   ],
   "source": [
    "tagger = SequenceTagger.load(\"dchaplinsky/flair-uk-ner\")"
   ]
  },
  {
   "cell_type": "code",
   "execution_count": 5,
   "id": "180cdba4-fd9c-45b1-9499-46f23c3bc929",
   "metadata": {},
   "outputs": [
    {
     "name": "stdout",
     "output_type": "stream",
     "text": [
      "Sentence[57]: \"«У селі жили і поляки, і українці. Мамина рідна сестра вийшла заміж за поляка. Там вони живуть досі ті мої двоюрідні сестри. Батькові сестри також повиходили заміж за поляків. Поки війни не було, то [міжетнічної] різниці не було» – зазначає Ганна Кухарчук із с. Княгинінок.\" → [\"Мамина\"/PERS, \"Ганна Кухарчук\"/PERS, \"с. Княгинінок\"/LOC]\n",
      "---\n",
      "entity.text is: \"Мамина\"\n",
      "entity \"ner\"-label value is: \"PERS\"\n",
      "entity \"ner\"-label score is: \"0.714608907699585\"\n",
      "\n",
      "entity.text is: \"Ганна Кухарчук\"\n",
      "entity \"ner\"-label value is: \"PERS\"\n",
      "entity \"ner\"-label score is: \"0.981868326663971\"\n",
      "\n",
      "entity.text is: \"с. Княгинінок\"\n",
      "entity \"ner\"-label value is: \"LOC\"\n",
      "entity \"ner\"-label score is: \"0.7007214824358622\"\n",
      "\n",
      "Sentence[69]: \"Про свій досвід взаємодії з євреями Антоніна Гук із с. Зелений Дуб пригадує наступне: «Жиди приходили до нас додому. Мама хотіли їм квасолі дати, а він каже «ми квасолі не їмо». Це так той єврей сказав. А чому він приходив, то я не знаю, мабуть через якусь потребу. Такі ж люди були, як і ми…»\" → [\"Антоніна Гук\"/PERS, \"Зелений Дуб\"/PERS, \"Мама\"/PERS]\n",
      "---\n",
      "entity.text is: \"Антоніна Гук\"\n",
      "entity \"ner\"-label value is: \"PERS\"\n",
      "entity \"ner\"-label score is: \"0.8735954165458679\"\n",
      "\n",
      "entity.text is: \"Зелений Дуб\"\n",
      "entity \"ner\"-label value is: \"PERS\"\n",
      "entity \"ner\"-label score is: \"0.7661209404468536\"\n",
      "\n",
      "entity.text is: \"Мама\"\n",
      "entity \"ner\"-label value is: \"PERS\"\n",
      "entity \"ner\"-label score is: \"0.9812749028205872\"\n",
      "\n",
      "Sentence[18]: \"Потім він по-польськи сказав “Nemá nič”» – розповідає Галина Береза з с. Коршів Волинської області\" → [\"Nemá nič\"/MISC, \"Галина Береза\"/PERS, \"Коршів\"/LOC, \"Волинської області\"/LOC]\n",
      "---\n",
      "entity.text is: \"Nemá nič\"\n",
      "entity \"ner\"-label value is: \"MISC\"\n",
      "entity \"ner\"-label score is: \"0.9277816414833069\"\n",
      "\n",
      "entity.text is: \"Галина Береза\"\n",
      "entity \"ner\"-label value is: \"PERS\"\n",
      "entity \"ner\"-label score is: \"0.9745381474494934\"\n",
      "\n",
      "entity.text is: \"Коршів\"\n",
      "entity \"ner\"-label value is: \"LOC\"\n",
      "entity \"ner\"-label score is: \"0.9008457660675049\"\n",
      "\n",
      "entity.text is: \"Волинської області\"\n",
      "entity \"ner\"-label value is: \"LOC\"\n",
      "entity \"ner\"-label score is: \"0.8182539343833923\"\n",
      "\n",
      "Sentence[94]: \"Інший календар, яким часто послуговуються оповідачі – релігійний. Оскільки більшість етнічних українців Волині належать до православної конфесії, найважливішими святами для них є Різдво (7 січня), Водохреща (19 січня), Стрітення (15 лютого), Благовіщеня (7 квітня), Великдень (дата щороку змінюється), Трійця (через 50 днів після Великодня), Святих Петра і Павла (12 липня), Спаса (19 серпня) тощо. Всі ці свята відзначаються згідно юліанського (а не григоріанського) календаря.\" → [\"Волині\"/LOC, \"Різдво\"/MISC, \"Водохреща\"/LOC, \"Стрітення\"/LOC, \"Благовіщеня\"/LOC, \"7 квітня\"/MISC, \"Великдень\"/LOC, \"Трійця\"/LOC, \"Великодня\"/MISC, \"Святих Петра\"/PERS, \"Павла\"/PERS, \"Спаса\"/LOC]\n",
      "---\n",
      "entity.text is: \"Волині\"\n",
      "entity \"ner\"-label value is: \"LOC\"\n",
      "entity \"ner\"-label score is: \"0.9918973445892334\"\n",
      "\n",
      "entity.text is: \"Різдво\"\n",
      "entity \"ner\"-label value is: \"MISC\"\n",
      "entity \"ner\"-label score is: \"0.9414271116256714\"\n",
      "\n",
      "entity.text is: \"Водохреща\"\n",
      "entity \"ner\"-label value is: \"LOC\"\n",
      "entity \"ner\"-label score is: \"0.9819481372833252\"\n",
      "\n",
      "entity.text is: \"Стрітення\"\n",
      "entity \"ner\"-label value is: \"LOC\"\n",
      "entity \"ner\"-label score is: \"0.5643119812011719\"\n",
      "\n",
      "entity.text is: \"Благовіщеня\"\n",
      "entity \"ner\"-label value is: \"LOC\"\n",
      "entity \"ner\"-label score is: \"0.9573646187782288\"\n",
      "\n",
      "entity.text is: \"7 квітня\"\n",
      "entity \"ner\"-label value is: \"MISC\"\n",
      "entity \"ner\"-label score is: \"0.5526911020278931\"\n",
      "\n",
      "entity.text is: \"Великдень\"\n",
      "entity \"ner\"-label value is: \"LOC\"\n",
      "entity \"ner\"-label score is: \"0.7609273791313171\"\n",
      "\n",
      "entity.text is: \"Трійця\"\n",
      "entity \"ner\"-label value is: \"LOC\"\n",
      "entity \"ner\"-label score is: \"0.555197536945343\"\n",
      "\n",
      "entity.text is: \"Великодня\"\n",
      "entity \"ner\"-label value is: \"MISC\"\n",
      "entity \"ner\"-label score is: \"0.9528988599777222\"\n",
      "\n",
      "entity.text is: \"Святих Петра\"\n",
      "entity \"ner\"-label value is: \"PERS\"\n",
      "entity \"ner\"-label score is: \"0.6135937869548798\"\n",
      "\n",
      "entity.text is: \"Павла\"\n",
      "entity \"ner\"-label value is: \"PERS\"\n",
      "entity \"ner\"-label score is: \"0.7259578108787537\"\n",
      "\n",
      "entity.text is: \"Спаса\"\n",
      "entity \"ner\"-label value is: \"LOC\"\n",
      "entity \"ner\"-label score is: \"0.6127342581748962\"\n",
      "\n",
      "Sentence[77]: \"Людей не понищили, отак прийшли й зайняли територію. Батькам не було страшно, наш тато ні до кого не ліз, дбали тільки про свою сім’ю й ніхто не зачіпав. У 1939 р. було створено десь 10 чи 11 колгоспів. Бідні люди самі пішли в колгосп. Володимир теж пішов у колгосп. Йому платили по 9 кг. зерна за трудодень. Заробив він десь 40 метрів зерна (приблизно 4 тони)\" → [\"Володимир\"/PERS]\n",
      "---\n",
      "entity.text is: \"Володимир\"\n",
      "entity \"ner\"-label value is: \"PERS\"\n",
      "entity \"ner\"-label score is: \"0.9575614333152771\"\n",
      "\n",
      "Sentence[17]: \"Тоді саме були жнива й Галина їх переховувала в копнах. Вона дуже багато євреїв переховувала…\" → [\"Галина\"/PERS]\n",
      "---\n",
      "entity.text is: \"Галина\"\n",
      "entity \"ner\"-label value is: \"PERS\"\n",
      "entity \"ner\"-label score is: \"0.990532636642456\"\n",
      "\n",
      "Sentence[22]: \"Ядвіга хотіли їм квасолі дати, а він каже «ми квасолі не їмо». Це так той єврей сказав.\"\n",
      "---\n",
      "Sentence[8]: \"Цю думку ізраїльського історика цитує Джон-Пол Химка.\" → [\"Джон-Пол Химка\"/PERS]\n",
      "---\n",
      "entity.text is: \"Джон-Пол Химка\"\n",
      "entity \"ner\"-label value is: \"PERS\"\n",
      "entity \"ner\"-label score is: \"0.9538451433181763\"\n",
      "\n"
     ]
    }
   ],
   "source": [
    "for txt in text:\n",
    "    sentence = Sentence(txt)\n",
    "    tagger.predict(sentence)\n",
    "\n",
    "    print(sentence)\n",
    "    print('---')\n",
    "    for entity in sentence.get_spans('ner'):\n",
    "        print(f'entity.text is: \"{entity.text}\"')    \n",
    "        print(f'entity \"ner\"-label value is: \"{entity.get_label(\"ner\").value}\"')\n",
    "        print(f'entity \"ner\"-label score is: \"{entity.get_label(\"ner\").score}\"\\n')"
   ]
  },
  {
   "cell_type": "code",
   "execution_count": null,
   "id": "7d8f5ca6-1a27-4858-848d-8441bc717e27",
   "metadata": {},
   "outputs": [],
   "source": []
  }
 ],
 "metadata": {
  "kernelspec": {
   "display_name": ".venv",
   "language": "python",
   "name": ".venv"
  },
  "language_info": {
   "codemirror_mode": {
    "name": "ipython",
    "version": 3
   },
   "file_extension": ".py",
   "mimetype": "text/x-python",
   "name": "python",
   "nbconvert_exporter": "python",
   "pygments_lexer": "ipython3",
   "version": "3.12.1"
  }
 },
 "nbformat": 4,
 "nbformat_minor": 5
}
